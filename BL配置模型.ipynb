{
 "cells": [
  {
   "cell_type": "code",
   "execution_count": 1,
   "metadata": {},
   "outputs": [],
   "source": [
    "import warnings\n",
    "warnings.filterwarnings(\"ignore\", message=\"numpy.dtype size changed\")\n",
    "warnings.filterwarnings(\"ignore\", message=\"numpy.ufunc size changed\")\n",
    "from BL_Model import *\n",
    "pd.set_option('display.max_colwidth', -1)"
   ]
  },
  {
   "cell_type": "code",
   "execution_count": 2,
   "metadata": {},
   "outputs": [],
   "source": [
    "###################读取Excel文件“BL模型.xlsx”#########\n",
    "df = pd.read_excel(\"BL模型.xlsx\", sheet_name=\"市场份额百分比\")\n",
    "market_capitalization_weight = df.values.reshape(df.values.size, 1)\n",
    "assets_name = list(df.columns.values)\n",
    "\n",
    "#协方差\n",
    "covariance_matrix = pd.read_excel(\"BL模型.xlsx\", sheet_name=\"协方差\", header=None).values\n",
    "#################读取Excel文件#################"
   ]
  },
  {
   "cell_type": "code",
   "execution_count": 3,
   "metadata": {},
   "outputs": [],
   "source": [
    "#################参数配置##################\n",
    "\n",
    "# to 系数\n",
    "to = 0.025\n",
    "\n",
    "#风险厌恶系数\n",
    "risk_aversion = 3.07\n",
    "\n",
    "#是否经典\n",
    "canonical = True\n",
    "\n",
    "#计算\n",
    "eqully_weighted = False\n",
    "\n",
    "#计算观点误差的方法，有成比例：\"proportional\" ，根据信心：\"Idzorek\"\n",
    "measure_view_variance = \"proportional\"\n",
    "\n",
    "#是否输出到excel文档\"BL_model_result.xlsx\"，原有文档将会被覆盖\n",
    "to_excel = False"
   ]
  },
  {
   "cell_type": "code",
   "execution_count": 4,
   "metadata": {},
   "outputs": [],
   "source": [
    "##############建立模型########################\n",
    "model = BL_model(assets_name,\n",
    "                 to, market_capitalization_weight, risk_aversion, covariance_matrix, canonical, measure_view_variance, eqully_weighted)"
   ]
  },
  {
   "cell_type": "code",
   "execution_count": 5,
   "metadata": {},
   "outputs": [],
   "source": [
    "##############添加观点######################\n",
    "model.add_abosolute_view(asset= \"intel dev euqity\", \n",
    "                         num=5.25,\n",
    "                         content=\"International Developed Equity will have an absolute excess return of 5.25%\", \n",
    "                         confidence=0.25)\n",
    "model.add_relative_view(assets1=[\"Intel bonds\"], \n",
    "                        assets2=[\"US bonds\"], \n",
    "                        num=0.25, \n",
    "                        content=\"International Bonds will outperform US Bonds by 25 basis points\", \n",
    "                        confidence=0.5)\n",
    "model.add_relative_view(assets1=[\"US Large Growth\", \"US Small Growth\"], \n",
    "                        assets2=[\"US Large Value\", \"US Small Value\"], \n",
    "                        num=2,\n",
    "                        content=\"US Large Growth and US Small Growth will outperform US Large Value and US Small Value by 2%\", \n",
    "                        confidence=0.65)"
   ]
  },
  {
   "cell_type": "code",
   "execution_count": 6,
   "metadata": {},
   "outputs": [
    {
     "name": "stdout",
     "output_type": "stream",
     "text": [
      "模型：经典Black-litterman参考模型\n",
      "测量观点误差的方法: 与资产方差成比例\n",
      "观点权重：根据市场份额\n"
     ]
    },
    {
     "data": {
      "text/html": [
       "<div>\n",
       "<style scoped>\n",
       "    .dataframe tbody tr th:only-of-type {\n",
       "        vertical-align: middle;\n",
       "    }\n",
       "\n",
       "    .dataframe tbody tr th {\n",
       "        vertical-align: top;\n",
       "    }\n",
       "\n",
       "    .dataframe thead th {\n",
       "        text-align: right;\n",
       "    }\n",
       "</style>\n",
       "<table border=\"1\" class=\"dataframe\">\n",
       "  <thead>\n",
       "    <tr style=\"text-align: right;\">\n",
       "      <th></th>\n",
       "      <th>CAPM平衡超额收益率</th>\n",
       "      <th>CAPM平衡投资权重</th>\n",
       "      <th>BL模型超额收益率</th>\n",
       "      <th>BL模型投资权重</th>\n",
       "    </tr>\n",
       "  </thead>\n",
       "  <tbody>\n",
       "    <tr>\n",
       "      <th>US bonds</th>\n",
       "      <td>0.082966</td>\n",
       "      <td>18.868293</td>\n",
       "      <td>0.066799</td>\n",
       "      <td>28.955352</td>\n",
       "    </tr>\n",
       "    <tr>\n",
       "      <th>Intel bonds</th>\n",
       "      <td>0.668777</td>\n",
       "      <td>25.492683</td>\n",
       "      <td>0.499016</td>\n",
       "      <td>15.405624</td>\n",
       "    </tr>\n",
       "    <tr>\n",
       "      <th>US Large Growth</th>\n",
       "      <td>6.424135</td>\n",
       "      <td>11.795122</td>\n",
       "      <td>6.502307</td>\n",
       "      <td>9.255665</td>\n",
       "    </tr>\n",
       "    <tr>\n",
       "      <th>US Large Value</th>\n",
       "      <td>4.087801</td>\n",
       "      <td>11.795122</td>\n",
       "      <td>4.326103</td>\n",
       "      <td>14.334578</td>\n",
       "    </tr>\n",
       "    <tr>\n",
       "      <th>US Small Growth</th>\n",
       "      <td>7.440370</td>\n",
       "      <td>1.307317</td>\n",
       "      <td>7.591106</td>\n",
       "      <td>1.025855</td>\n",
       "    </tr>\n",
       "    <tr>\n",
       "      <th>US Small Value</th>\n",
       "      <td>3.708882</td>\n",
       "      <td>1.307317</td>\n",
       "      <td>3.941082</td>\n",
       "      <td>1.588779</td>\n",
       "    </tr>\n",
       "    <tr>\n",
       "      <th>intel dev euqity</th>\n",
       "      <td>4.807719</td>\n",
       "      <td>23.590244</td>\n",
       "      <td>4.937394</td>\n",
       "      <td>27.736988</td>\n",
       "    </tr>\n",
       "    <tr>\n",
       "      <th>intel emerg equity</th>\n",
       "      <td>6.605698</td>\n",
       "      <td>3.404878</td>\n",
       "      <td>6.843544</td>\n",
       "      <td>3.404878</td>\n",
       "    </tr>\n",
       "  </tbody>\n",
       "</table>\n",
       "</div>"
      ],
      "text/plain": [
       "                    CAPM平衡超额收益率  CAPM平衡投资权重  BL模型超额收益率   BL模型投资权重\n",
       "US bonds            0.082966     18.868293   0.066799   28.955352\n",
       "Intel bonds         0.668777     25.492683   0.499016   15.405624\n",
       "US Large Growth     6.424135     11.795122   6.502307   9.255665 \n",
       "US Large Value      4.087801     11.795122   4.326103   14.334578\n",
       "US Small Growth     7.440370     1.307317    7.591106   1.025855 \n",
       "US Small Value      3.708882     1.307317    3.941082   1.588779 \n",
       "intel dev euqity    4.807719     23.590244   4.937394   27.736988\n",
       "intel emerg equity  6.605698     3.404878    6.843544   3.404878 "
      ]
     },
     "metadata": {},
     "output_type": "display_data"
    },
    {
     "name": "stdout",
     "output_type": "stream",
     "text": [
      "（单位：百分比 %）\n"
     ]
    },
    {
     "data": {
      "text/html": [
       "<div>\n",
       "<style scoped>\n",
       "    .dataframe tbody tr th:only-of-type {\n",
       "        vertical-align: middle;\n",
       "    }\n",
       "\n",
       "    .dataframe tbody tr th {\n",
       "        vertical-align: top;\n",
       "    }\n",
       "\n",
       "    .dataframe thead th {\n",
       "        text-align: right;\n",
       "    }\n",
       "</style>\n",
       "<table border=\"1\" class=\"dataframe\">\n",
       "  <thead>\n",
       "    <tr style=\"text-align: right;\">\n",
       "      <th></th>\n",
       "      <th>描述</th>\n",
       "    </tr>\n",
       "  </thead>\n",
       "  <tbody>\n",
       "    <tr>\n",
       "      <th>观点1</th>\n",
       "      <td>International Developed Equity will have an absolute excess return of 5.25%</td>\n",
       "    </tr>\n",
       "    <tr>\n",
       "      <th>观点2</th>\n",
       "      <td>International Bonds will outperform US Bonds by 25 basis points</td>\n",
       "    </tr>\n",
       "    <tr>\n",
       "      <th>观点3</th>\n",
       "      <td>US Large Growth and US Small Growth will outperform US Large Value and US Small Value by 2%</td>\n",
       "    </tr>\n",
       "  </tbody>\n",
       "</table>\n",
       "</div>"
      ],
      "text/plain": [
       "                                                                                              描述\n",
       "观点1  International Developed Equity will have an absolute excess return of 5.25%                \n",
       "观点2  International Bonds will outperform US Bonds by 25 basis points                            \n",
       "观点3  US Large Growth and US Small Growth will outperform US Large Value and US Small Value by 2%"
      ]
     },
     "metadata": {},
     "output_type": "display_data"
    }
   ],
   "source": [
    "############输出结果###############\n",
    "model.print_summary()"
   ]
  },
  {
   "cell_type": "code",
   "execution_count": 7,
   "metadata": {},
   "outputs": [],
   "source": [
    "##########输出excel文档\"BL_model_result.xlsx\"，原有文档将会被覆盖############\n",
    "if to_excel:\n",
    "    model.print_to_excel()"
   ]
  },
  {
   "cell_type": "code",
   "execution_count": null,
   "metadata": {},
   "outputs": [],
   "source": []
  },
  {
   "cell_type": "code",
   "execution_count": null,
   "metadata": {},
   "outputs": [],
   "source": []
  },
  {
   "cell_type": "code",
   "execution_count": null,
   "metadata": {},
   "outputs": [],
   "source": []
  },
  {
   "cell_type": "code",
   "execution_count": null,
   "metadata": {},
   "outputs": [],
   "source": []
  },
  {
   "cell_type": "code",
   "execution_count": null,
   "metadata": {},
   "outputs": [],
   "source": []
  }
 ],
 "metadata": {
  "kernelspec": {
   "display_name": "Python 3",
   "language": "python",
   "name": "python3"
  },
  "language_info": {
   "codemirror_mode": {
    "name": "ipython",
    "version": 3
   },
   "file_extension": ".py",
   "mimetype": "text/x-python",
   "name": "python",
   "nbconvert_exporter": "python",
   "pygments_lexer": "ipython3",
   "version": "3.6.5"
  }
 },
 "nbformat": 4,
 "nbformat_minor": 2
}
